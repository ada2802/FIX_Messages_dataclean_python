{
 "cells": [
  {
   "cell_type": "markdown",
   "id": "22de97e6",
   "metadata": {},
   "source": [
    "# FIX Messages to Dictionary\n",
    "https://bitnomial.com/docs/fix-dropcopy-protocol/"
   ]
  },
  {
   "cell_type": "raw",
   "id": "043cc2cf",
   "metadata": {},
   "source": [
    "# dictionary in python code example\n",
    "\n",
    "dict = {'key1': 'geeks', 'key2': 'for'}\n",
    "print(\"Current Dict is: \", dict)\n",
    "\n",
    "# adding dict1 (key3, key4 and key5) to dict\n",
    "dict1 = {'key3': 'geeks', 'key4': 'is', 'key5': 'fabulous'}\n",
    "dict.update(dict1)\n",
    "\n",
    "# by assigning\n",
    "dict.update(newkey1='portal')\n",
    "print(dict)"
   ]
  },
  {
   "cell_type": "raw",
   "id": "f621dd3a",
   "metadata": {},
   "source": [
    "existing_dict = {'key1': 'value1', 'key2': 'value2'}\n",
    "new_key = 'key3'\n",
    "new_value = 'value3'\n",
    "\n",
    "updated_dict = {**existing_dict, new_key: new_value}\n",
    "print(updated_dict)"
   ]
  },
  {
   "cell_type": "raw",
   "id": "d5e2471f",
   "metadata": {},
   "source": [
    "Logon Message\n",
    "The Logon (A) message authenticates a user establishing a connection to a remote system.\n",
    "\n",
    "Example:\n",
    "8=FIX.4.4 | 9=88 | 35=A | 49=fix_client | 56=BTNL_PF | 34=1 | 52=20061124-15:47:02.951 | 98=0 | 108=30 | 553=10 | 554=AUTHTOKEN | 141=Y | 10=CHECKSUM |\n",
    "\n",
    "\n",
    "Heartbeat\n",
    "The Heartbeat (0) message monitors the status of the communication link and identifies when the last of a string of messages was not received.\n",
    "\n",
    "Example:\n",
    "8=FIX.4.4 | 9=57 | 35=0 | 34=2 | 49=BTNL_DC | 56=BTNL_DC | 52=20210525-16:59:02.564 | 10=012 |\n",
    "\n",
    "\n",
    "\n",
    "Logout\n",
    "The Logout (5) message terminates the FIX session. Disconnection without the exchange of Logout (5) messages should be interpreted as an abnormal condition.\n",
    "\n",
    "Example:\n",
    "8=FIX.4.4 | 9=95 | 35=5 | 49=BTNL_PF | 56=fix_client | 34=25 | 52=20061124-15:59:50.524  | 58=NormalLogoutInitiatedByCounterparty | 10=054 |\n"
   ]
  },
  {
   "cell_type": "code",
   "execution_count": 10,
   "id": "8e7f0eee",
   "metadata": {
    "scrolled": true
   },
   "outputs": [
    {
     "name": "stdout",
     "output_type": "stream",
     "text": [
      "{'8': 'FIX.4.4', '9': '95', '35': '5', '49': 'BTNL_PF', '56': 'fix_client', '34': '25', '52': '20061124-15:59:50.524 ', '58': 'NormalLogoutInitiatedByCounterparty', '10': '054 |'}\n",
      "{'8': 'FIX.4.4', '9': '95', '35': '5', '49': 'BTNL_PF', '56': 'fix_client', '34': '25', '52': '20061124-15:59:50.524', '58': 'NormalLogoutInitiatedByCounterparty', '10': '054'}\n"
     ]
    }
   ],
   "source": [
    "# Sample input string\n",
    "input_str = \"8=FIX.4.4 | 9=95 | 35=5 | 49=BTNL_PF | 56=fix_client | 34=25 | 52=20061124-15:59:50.524  | 58=NormalLogoutInitiatedByCounterparty | 10=054 |\"\n",
    "\n",
    "# Split the string by the delimiter \"|\"\n",
    "pairs = input_str.split(\" | \")\n",
    "\n",
    "# Initialize an empty dictionary\n",
    "result_dict = {}\n",
    "\n",
    "# Iterate over each pair and split by \"=\" to get the key-value pairs\n",
    "for pair in pairs:\n",
    "    key, value = pair.split(\"=\")\n",
    "    result_dict[key] = value\n",
    "\n",
    "# The resulting dictionary\n",
    "print(result_dict)\n",
    "\n",
    "# Iterate over the dictionary and clean the values\n",
    "cleaned_data = {key: value.replace(\"|\", \"\").strip() for key, value in result_dict.items()}\n",
    "\n",
    "print(cleaned_data)"
   ]
  },
  {
   "cell_type": "markdown",
   "id": "d67bf4d8",
   "metadata": {},
   "source": [
    "Install Pandas and SQLAlchemy (if not already installed):"
   ]
  },
  {
   "cell_type": "code",
   "execution_count": null,
   "id": "f3d4b398",
   "metadata": {},
   "outputs": [],
   "source": [
    "# Bash\n",
    "#！pip install pandas sqlalchemy"
   ]
  },
  {
   "cell_type": "code",
   "execution_count": 15,
   "id": "afc56c5f",
   "metadata": {},
   "outputs": [
    {
     "name": "stdout",
     "output_type": "stream",
     "text": [
      "         8   9 35          49          56  34                     52   98  \\\n",
      "0  FIX.4.4  88  A  fix_client     BTNL_PF   1  20061124-15:47:02.951    0   \n",
      "1  FIX.4.4  57  0     BTNL_DC     BTNL_DC   2  20210525-16:59:02.564  NaN   \n",
      "2  FIX.4.4  95  5     BTNL_PF  fix_client  25  20061124-15:59:50.524  NaN   \n",
      "\n",
      "   108  553        554  141        10                                   58  \n",
      "0   30   10  AUTHTOKEN    Y  CHECKSUM                                  NaN  \n",
      "1  NaN  NaN        NaN  NaN       012                                  NaN  \n",
      "2  NaN  NaN        NaN  NaN       054  NormalLogoutInitiatedByCounterparty  \n"
     ]
    }
   ],
   "source": [
    "import pandas as pd\n",
    "from sqlalchemy import create_engine\n",
    "\n",
    "def parse_line(line):\n",
    "    \"\"\"Parses a line of text into a dictionary of key-value pairs.\"\"\"\n",
    "    pairs = line.strip().split(\" | \")\n",
    "    result_dict = {}\n",
    "    for pair in pairs:\n",
    "        key, value = pair.split(\"=\")\n",
    "        result_dict[key] = value\n",
    "        \n",
    "    # Iterate over the dictionary and clean the values\n",
    "    result_dict = {key: value.replace(\"|\", \"\").strip() for key, value in result_dict.items()}\n",
    "    return result_dict\n",
    "\n",
    "def read_file_to_dict(file_path):\n",
    "    \"\"\"Reads a file and returns a list of dictionaries with the parsed key-value pairs.\"\"\"\n",
    "    messages = []\n",
    "    with open(file_path, 'r') as file:\n",
    "        for line in file:\n",
    "            if line.strip():  # Only process non-empty lines\n",
    "                messages.append(parse_line(line))\n",
    "    return messages\n",
    "\n",
    "def store_to_dataframe(data):\n",
    "    \"\"\"Converts the list of dictionaries into a pandas DataFrame.\"\"\"\n",
    "    df = pd.DataFrame(data)\n",
    "    return df\n",
    "\n",
    "def save_dataframe_to_db(df, db_connection_string, table_name):\n",
    "    \"\"\"Saves the DataFrame to the specified database table.\"\"\"\n",
    "    engine = create_engine(db_connection_string)\n",
    "    df.to_sql(table_name, con=engine, if_exists='replace', index=False)\n",
    "\n",
    "# Example usage\n",
    "file_path = \"fix_messages.txt\"\n",
    "data = read_file_to_dict(file_path)\n",
    "\n",
    "# Store data in DataFrame\n",
    "df = store_to_dataframe(data)\n",
    "print(df)"
   ]
  },
  {
   "cell_type": "raw",
   "id": "46e66bcb",
   "metadata": {},
   "source": [
    "Conver the DateTime value to Year, Month, Day, Hour, Min, Second "
   ]
  },
  {
   "cell_type": "code",
   "execution_count": 16,
   "id": "847d9ace",
   "metadata": {
    "scrolled": true
   },
   "outputs": [
    {
     "name": "stdout",
     "output_type": "stream",
     "text": [
      "         8   9 35          49          56  34                      52   98  \\\n",
      "0  FIX.4.4  88  A  fix_client     BTNL_PF   1 2006-11-24 15:47:02.951    0   \n",
      "1  FIX.4.4  57  0     BTNL_DC     BTNL_DC   2 2021-05-25 16:59:02.564  NaN   \n",
      "2  FIX.4.4  95  5     BTNL_PF  fix_client  25 2006-11-24 15:59:50.524  NaN   \n",
      "\n",
      "   108  553        554  141        10                                   58  \\\n",
      "0   30   10  AUTHTOKEN    Y  CHECKSUM                                  NaN   \n",
      "1  NaN  NaN        NaN  NaN       012                                  NaN   \n",
      "2  NaN  NaN        NaN  NaN       054  NormalLogoutInitiatedByCounterparty   \n",
      "\n",
      "   Year  Month  Day  Hour  Minute  Second  \n",
      "0  2006     11   24    15      47       2  \n",
      "1  2021      5   25    16      59       2  \n",
      "2  2006     11   24    15      59      50  \n"
     ]
    }
   ],
   "source": [
    "import pandas as pd\n",
    "\n",
    "# Convert the '52' column to datetime\n",
    "df['52'] = pd.to_datetime(df['52'], format='%Y%m%d-%H:%M:%S.%f')\n",
    "\n",
    "# Extract year, month, day, hour, minute, and second into new columns\n",
    "df['Year'] = df['52'].dt.year\n",
    "df['Month'] = df['52'].dt.month\n",
    "df['Day'] = df['52'].dt.day\n",
    "df['Hour'] = df['52'].dt.hour\n",
    "df['Minute'] = df['52'].dt.minute\n",
    "df['Second'] = df['52'].dt.second\n",
    "\n",
    "print(df)"
   ]
  },
  {
   "cell_type": "code",
   "execution_count": null,
   "id": "f0cb5c07",
   "metadata": {},
   "outputs": [],
   "source": []
  },
  {
   "cell_type": "code",
   "execution_count": null,
   "id": "bcd7ef50",
   "metadata": {},
   "outputs": [],
   "source": [
    "# Save DataFrame to database\n",
    "db_connection_string = 'sqlite:///your_database.db'  # Replace with your actual database connection string\n",
    "table_name = 'your_table_name'\n",
    "save_dataframe_to_db(df, db_connection_string, table_name)"
   ]
  }
 ],
 "metadata": {
  "kernelspec": {
   "display_name": "Python 3 (ipykernel)",
   "language": "python",
   "name": "python3"
  },
  "language_info": {
   "codemirror_mode": {
    "name": "ipython",
    "version": 3
   },
   "file_extension": ".py",
   "mimetype": "text/x-python",
   "name": "python",
   "nbconvert_exporter": "python",
   "pygments_lexer": "ipython3",
   "version": "3.9.13"
  }
 },
 "nbformat": 4,
 "nbformat_minor": 5
}
